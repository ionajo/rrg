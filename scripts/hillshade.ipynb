{
 "cells": [
  {
   "cell_type": "markdown",
   "metadata": {},
   "source": [
    "# Process DEM hillshade\n",
    "## GEO 409, Fall 2018\n",
    "![A scenic destination](https://uky-gis.github.io/maps/us-arches/photos/don_juan_garden.jpg)    \n",
    "Don Juan's Garden in the Red River Gorge\n",
    "by TastyFreeze "
   ]
  },
  {
   "cell_type": "code",
   "execution_count": null,
   "metadata": {},
   "outputs": [],
   "source": [
    "import arcpy"
   ]
  },
  {
   "cell_type": "code",
   "execution_count": null,
   "metadata": {},
   "outputs": [],
   "source": [
    "# Specify your geodatabase, output directory, and DEM raster you want to hillshade\n",
    "geodatabase = \"Z:/BoydsGIS/data/rrg_build.gdb\"\n",
    "dem_raster = \"dem_lo_res\"\n",
    "out_dir = \"Z:/BoydsGIS/data/_sun/\"\n",
    "\n",
    "# Hillshade parameters\n",
    "azimuth = 90\n",
    "altitude = 55"
   ]
  },
  {
   "cell_type": "code",
   "execution_count": null,
   "metadata": {},
   "outputs": [],
   "source": [
    "# Check contents of database\n",
    "try:\n",
    "    arcpy.env.workspace = geodatabase\n",
    "    arcpy.env.overwriteOutput = True\n",
    "    rasterList = arcpy.ListRasters()\n",
    "    print (\"Raster: \", rasterList) # Print two different data types at once\n",
    "except:\n",
    "    print(\"Not a valid database\")"
   ]
  },
  {
   "cell_type": "code",
   "execution_count": null,
   "metadata": {},
   "outputs": [],
   "source": [
    "# Resample DEM if needed to speed things up :)\n",
    "arcpy.Resample_management (\"DEM_2016_5ft_clip\", dem_raster, 15, \"CUBIC\")"
   ]
  },
  {
   "cell_type": "code",
   "execution_count": null,
   "metadata": {},
   "outputs": [],
   "source": [
    "# Iterate through three values for the azimuth parameter\n",
    "while azimuth < 271:\n",
    "    out_raster = out_dir + \"hillshade_\" + str(azimuth) + \".tif\"\n",
    "    print(\"Making \" + out_raster + \" with azimuth value of \" + str(azimuth) + \"...\")\n",
    "    arcpy.HillShade_3d(dem_raster, out_raster, azimuth, altitude)\n",
    "    azimuth += 90\n",
    "\n",
    "print(\"All done!\")"
   ]
  }
 ],
 "metadata": {
  "kernelspec": {
   "display_name": "Python [conda env:geo]",
   "language": "python",
   "name": "conda-env-geo-py"
  },
  "language_info": {
   "codemirror_mode": {
    "name": "ipython",
    "version": 3
   },
   "file_extension": ".py",
   "mimetype": "text/x-python",
   "name": "python",
   "nbconvert_exporter": "python",
   "pygments_lexer": "ipython3",
   "version": "3.7.1"
  }
 },
 "nbformat": 4,
 "nbformat_minor": 2
}
